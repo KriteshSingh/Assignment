{
 "cells": [
  {
   "cell_type": "code",
   "execution_count": 1,
   "id": "fd6c11e3",
   "metadata": {},
   "outputs": [],
   "source": [
    "import pandas as pd\n",
    "import numpy as np\n",
    "import seaborn as sns\n",
    "import matplotlib.pyplot as plt"
   ]
  },
  {
   "cell_type": "code",
   "execution_count": 2,
   "id": "8a0d0a88",
   "metadata": {},
   "outputs": [
    {
     "data": {
      "text/html": [
       "<div>\n",
       "<style scoped>\n",
       "    .dataframe tbody tr th:only-of-type {\n",
       "        vertical-align: middle;\n",
       "    }\n",
       "\n",
       "    .dataframe tbody tr th {\n",
       "        vertical-align: top;\n",
       "    }\n",
       "\n",
       "    .dataframe thead th {\n",
       "        text-align: right;\n",
       "    }\n",
       "</style>\n",
       "<table border=\"1\" class=\"dataframe\">\n",
       "  <thead>\n",
       "    <tr style=\"text-align: right;\">\n",
       "      <th></th>\n",
       "      <th>Order_ID</th>\n",
       "      <th>Item</th>\n",
       "      <th>Amount</th>\n",
       "      <th>Customer_ID</th>\n",
       "    </tr>\n",
       "  </thead>\n",
       "  <tbody>\n",
       "    <tr>\n",
       "      <th>0</th>\n",
       "      <td>1</td>\n",
       "      <td>Keyboard</td>\n",
       "      <td>400</td>\n",
       "      <td>139</td>\n",
       "    </tr>\n",
       "    <tr>\n",
       "      <th>1</th>\n",
       "      <td>2</td>\n",
       "      <td>Mouse</td>\n",
       "      <td>300</td>\n",
       "      <td>250</td>\n",
       "    </tr>\n",
       "    <tr>\n",
       "      <th>2</th>\n",
       "      <td>3</td>\n",
       "      <td>Monitor</td>\n",
       "      <td>12000</td>\n",
       "      <td>239</td>\n",
       "    </tr>\n",
       "    <tr>\n",
       "      <th>3</th>\n",
       "      <td>4</td>\n",
       "      <td>Keyboard</td>\n",
       "      <td>400</td>\n",
       "      <td>153</td>\n",
       "    </tr>\n",
       "    <tr>\n",
       "      <th>4</th>\n",
       "      <td>5</td>\n",
       "      <td>Mousepad</td>\n",
       "      <td>250</td>\n",
       "      <td>153</td>\n",
       "    </tr>\n",
       "    <tr>\n",
       "      <th>...</th>\n",
       "      <td>...</td>\n",
       "      <td>...</td>\n",
       "      <td>...</td>\n",
       "      <td>...</td>\n",
       "    </tr>\n",
       "    <tr>\n",
       "      <th>245</th>\n",
       "      <td>246</td>\n",
       "      <td>Harddisk</td>\n",
       "      <td>5000</td>\n",
       "      <td>186</td>\n",
       "    </tr>\n",
       "    <tr>\n",
       "      <th>246</th>\n",
       "      <td>247</td>\n",
       "      <td>Webcam</td>\n",
       "      <td>350</td>\n",
       "      <td>135</td>\n",
       "    </tr>\n",
       "    <tr>\n",
       "      <th>247</th>\n",
       "      <td>248</td>\n",
       "      <td>Mousepad</td>\n",
       "      <td>200</td>\n",
       "      <td>110</td>\n",
       "    </tr>\n",
       "    <tr>\n",
       "      <th>248</th>\n",
       "      <td>249</td>\n",
       "      <td>DDR RAM</td>\n",
       "      <td>1500</td>\n",
       "      <td>176</td>\n",
       "    </tr>\n",
       "    <tr>\n",
       "      <th>249</th>\n",
       "      <td>250</td>\n",
       "      <td>Headset</td>\n",
       "      <td>900</td>\n",
       "      <td>223</td>\n",
       "    </tr>\n",
       "  </tbody>\n",
       "</table>\n",
       "<p>250 rows × 4 columns</p>\n",
       "</div>"
      ],
      "text/plain": [
       "     Order_ID      Item  Amount  Customer_ID\n",
       "0           1  Keyboard     400          139\n",
       "1           2     Mouse     300          250\n",
       "2           3   Monitor   12000          239\n",
       "3           4  Keyboard     400          153\n",
       "4           5  Mousepad     250          153\n",
       "..        ...       ...     ...          ...\n",
       "245       246  Harddisk    5000          186\n",
       "246       247    Webcam     350          135\n",
       "247       248  Mousepad     200          110\n",
       "248       249   DDR RAM    1500          176\n",
       "249       250   Headset     900          223\n",
       "\n",
       "[250 rows x 4 columns]"
      ]
     },
     "execution_count": 2,
     "metadata": {},
     "output_type": "execute_result"
    }
   ],
   "source": [
    "#Reading the data in Order.csv\n",
    "df_1 = pd.read_csv('/Users/kriteshsingh/Downloads/Order.csv')\n",
    "df_1"
   ]
  },
  {
   "cell_type": "code",
   "execution_count": 3,
   "id": "3b646b16",
   "metadata": {},
   "outputs": [
    {
     "name": "stdout",
     "output_type": "stream",
     "text": [
      "<class 'pandas.core.frame.DataFrame'>\n",
      "RangeIndex: 250 entries, 0 to 249\n",
      "Data columns (total 4 columns):\n",
      " #   Column       Non-Null Count  Dtype \n",
      "---  ------       --------------  ----- \n",
      " 0   Order_ID     250 non-null    int64 \n",
      " 1   Item         250 non-null    object\n",
      " 2   Amount       250 non-null    int64 \n",
      " 3   Customer_ID  250 non-null    int64 \n",
      "dtypes: int64(3), object(1)\n",
      "memory usage: 7.9+ KB\n"
     ]
    }
   ],
   "source": [
    "#Summary of df_1 table\n",
    "\n",
    "df_1.info()"
   ]
  },
  {
   "cell_type": "code",
   "execution_count": 4,
   "id": "cf0c355b",
   "metadata": {},
   "outputs": [
    {
     "data": {
      "text/plain": [
       "Order_ID       0\n",
       "Item           0\n",
       "Amount         0\n",
       "Customer_ID    0\n",
       "dtype: int64"
      ]
     },
     "execution_count": 4,
     "metadata": {},
     "output_type": "execute_result"
    }
   ],
   "source": [
    "#Checking for missing values\n",
    "\n",
    "df_1.isnull().sum()"
   ]
  },
  {
   "cell_type": "code",
   "execution_count": 5,
   "id": "b26c02ec",
   "metadata": {},
   "outputs": [
    {
     "data": {
      "text/html": [
       "<div>\n",
       "<style scoped>\n",
       "    .dataframe tbody tr th:only-of-type {\n",
       "        vertical-align: middle;\n",
       "    }\n",
       "\n",
       "    .dataframe tbody tr th {\n",
       "        vertical-align: top;\n",
       "    }\n",
       "\n",
       "    .dataframe thead th {\n",
       "        text-align: right;\n",
       "    }\n",
       "</style>\n",
       "<table border=\"1\" class=\"dataframe\">\n",
       "  <thead>\n",
       "    <tr style=\"text-align: right;\">\n",
       "      <th></th>\n",
       "      <th>Customer_ID</th>\n",
       "      <th>First</th>\n",
       "      <th>Last</th>\n",
       "      <th>Age</th>\n",
       "      <th>Country</th>\n",
       "    </tr>\n",
       "  </thead>\n",
       "  <tbody>\n",
       "    <tr>\n",
       "      <th>0</th>\n",
       "      <td>1</td>\n",
       "      <td>Joseph</td>\n",
       "      <td>Rice</td>\n",
       "      <td>43</td>\n",
       "      <td>USA</td>\n",
       "    </tr>\n",
       "    <tr>\n",
       "      <th>1</th>\n",
       "      <td>2</td>\n",
       "      <td>Gary</td>\n",
       "      <td>Moore</td>\n",
       "      <td>71</td>\n",
       "      <td>USA</td>\n",
       "    </tr>\n",
       "    <tr>\n",
       "      <th>2</th>\n",
       "      <td>3</td>\n",
       "      <td>John</td>\n",
       "      <td>Walker</td>\n",
       "      <td>44</td>\n",
       "      <td>UK</td>\n",
       "    </tr>\n",
       "    <tr>\n",
       "      <th>3</th>\n",
       "      <td>4</td>\n",
       "      <td>Eric</td>\n",
       "      <td>Carter</td>\n",
       "      <td>38</td>\n",
       "      <td>UK</td>\n",
       "    </tr>\n",
       "    <tr>\n",
       "      <th>4</th>\n",
       "      <td>5</td>\n",
       "      <td>William</td>\n",
       "      <td>Jackson</td>\n",
       "      <td>58</td>\n",
       "      <td>UAE</td>\n",
       "    </tr>\n",
       "    <tr>\n",
       "      <th>...</th>\n",
       "      <td>...</td>\n",
       "      <td>...</td>\n",
       "      <td>...</td>\n",
       "      <td>...</td>\n",
       "      <td>...</td>\n",
       "    </tr>\n",
       "    <tr>\n",
       "      <th>245</th>\n",
       "      <td>246</td>\n",
       "      <td>Justin</td>\n",
       "      <td>Stewart</td>\n",
       "      <td>73</td>\n",
       "      <td>USA</td>\n",
       "    </tr>\n",
       "    <tr>\n",
       "      <th>246</th>\n",
       "      <td>247</td>\n",
       "      <td>John</td>\n",
       "      <td>Miller</td>\n",
       "      <td>53</td>\n",
       "      <td>USA</td>\n",
       "    </tr>\n",
       "    <tr>\n",
       "      <th>247</th>\n",
       "      <td>248</td>\n",
       "      <td>Thomas</td>\n",
       "      <td>Hickman</td>\n",
       "      <td>23</td>\n",
       "      <td>UK</td>\n",
       "    </tr>\n",
       "    <tr>\n",
       "      <th>248</th>\n",
       "      <td>249</td>\n",
       "      <td>Patricia</td>\n",
       "      <td>Garcia</td>\n",
       "      <td>19</td>\n",
       "      <td>UK</td>\n",
       "    </tr>\n",
       "    <tr>\n",
       "      <th>249</th>\n",
       "      <td>250</td>\n",
       "      <td>Stephen</td>\n",
       "      <td>Jones</td>\n",
       "      <td>22</td>\n",
       "      <td>USA</td>\n",
       "    </tr>\n",
       "  </tbody>\n",
       "</table>\n",
       "<p>250 rows × 5 columns</p>\n",
       "</div>"
      ],
      "text/plain": [
       "     Customer_ID     First     Last  Age Country\n",
       "0              1    Joseph     Rice   43     USA\n",
       "1              2      Gary    Moore   71     USA\n",
       "2              3      John   Walker   44      UK\n",
       "3              4      Eric   Carter   38      UK\n",
       "4              5   William  Jackson   58     UAE\n",
       "..           ...       ...      ...  ...     ...\n",
       "245          246    Justin  Stewart   73     USA\n",
       "246          247      John   Miller   53     USA\n",
       "247          248    Thomas  Hickman   23      UK\n",
       "248          249  Patricia   Garcia   19      UK\n",
       "249          250   Stephen    Jones   22     USA\n",
       "\n",
       "[250 rows x 5 columns]"
      ]
     },
     "execution_count": 5,
     "metadata": {},
     "output_type": "execute_result"
    }
   ],
   "source": [
    "#Reading the data in Customer.xls\n",
    "df_2 = pd.read_excel('/Users/kriteshsingh/Downloads/Customer.xls')\n",
    "df_2"
   ]
  },
  {
   "cell_type": "code",
   "execution_count": 6,
   "id": "121f9bb5",
   "metadata": {},
   "outputs": [
    {
     "name": "stdout",
     "output_type": "stream",
     "text": [
      "<class 'pandas.core.frame.DataFrame'>\n",
      "RangeIndex: 250 entries, 0 to 249\n",
      "Data columns (total 5 columns):\n",
      " #   Column       Non-Null Count  Dtype \n",
      "---  ------       --------------  ----- \n",
      " 0   Customer_ID  250 non-null    int64 \n",
      " 1   First        250 non-null    object\n",
      " 2   Last         250 non-null    object\n",
      " 3   Age          250 non-null    int64 \n",
      " 4   Country      250 non-null    object\n",
      "dtypes: int64(2), object(3)\n",
      "memory usage: 9.9+ KB\n"
     ]
    }
   ],
   "source": [
    "#Summary of df_2 table\n",
    "\n",
    "df_2.info()"
   ]
  },
  {
   "cell_type": "code",
   "execution_count": 7,
   "id": "67f91d89",
   "metadata": {},
   "outputs": [
    {
     "data": {
      "text/plain": [
       "Customer_ID    0\n",
       "First          0\n",
       "Last           0\n",
       "Age            0\n",
       "Country        0\n",
       "dtype: int64"
      ]
     },
     "execution_count": 7,
     "metadata": {},
     "output_type": "execute_result"
    }
   ],
   "source": [
    "#Checking for missing values\n",
    "\n",
    "df_2.isnull().sum()"
   ]
  },
  {
   "cell_type": "code",
   "execution_count": 8,
   "id": "f79a4666",
   "metadata": {},
   "outputs": [
    {
     "data": {
      "text/html": [
       "<div>\n",
       "<style scoped>\n",
       "    .dataframe tbody tr th:only-of-type {\n",
       "        vertical-align: middle;\n",
       "    }\n",
       "\n",
       "    .dataframe tbody tr th {\n",
       "        vertical-align: top;\n",
       "    }\n",
       "\n",
       "    .dataframe thead th {\n",
       "        text-align: right;\n",
       "    }\n",
       "</style>\n",
       "<table border=\"1\" class=\"dataframe\">\n",
       "  <thead>\n",
       "    <tr style=\"text-align: right;\">\n",
       "      <th></th>\n",
       "      <th>Shipping_ID</th>\n",
       "      <th>Status</th>\n",
       "      <th>Customer_ID</th>\n",
       "    </tr>\n",
       "  </thead>\n",
       "  <tbody>\n",
       "    <tr>\n",
       "      <th>0</th>\n",
       "      <td>1</td>\n",
       "      <td>Pending</td>\n",
       "      <td>173</td>\n",
       "    </tr>\n",
       "    <tr>\n",
       "      <th>1</th>\n",
       "      <td>2</td>\n",
       "      <td>Pending</td>\n",
       "      <td>155</td>\n",
       "    </tr>\n",
       "    <tr>\n",
       "      <th>2</th>\n",
       "      <td>3</td>\n",
       "      <td>Delivered</td>\n",
       "      <td>242</td>\n",
       "    </tr>\n",
       "    <tr>\n",
       "      <th>3</th>\n",
       "      <td>4</td>\n",
       "      <td>Pending</td>\n",
       "      <td>223</td>\n",
       "    </tr>\n",
       "    <tr>\n",
       "      <th>4</th>\n",
       "      <td>5</td>\n",
       "      <td>Delivered</td>\n",
       "      <td>72</td>\n",
       "    </tr>\n",
       "    <tr>\n",
       "      <th>...</th>\n",
       "      <td>...</td>\n",
       "      <td>...</td>\n",
       "      <td>...</td>\n",
       "    </tr>\n",
       "    <tr>\n",
       "      <th>245</th>\n",
       "      <td>246</td>\n",
       "      <td>Pending</td>\n",
       "      <td>171</td>\n",
       "    </tr>\n",
       "    <tr>\n",
       "      <th>246</th>\n",
       "      <td>247</td>\n",
       "      <td>Pending</td>\n",
       "      <td>40</td>\n",
       "    </tr>\n",
       "    <tr>\n",
       "      <th>247</th>\n",
       "      <td>248</td>\n",
       "      <td>Delivered</td>\n",
       "      <td>37</td>\n",
       "    </tr>\n",
       "    <tr>\n",
       "      <th>248</th>\n",
       "      <td>249</td>\n",
       "      <td>Pending</td>\n",
       "      <td>55</td>\n",
       "    </tr>\n",
       "    <tr>\n",
       "      <th>249</th>\n",
       "      <td>250</td>\n",
       "      <td>Delivered</td>\n",
       "      <td>27</td>\n",
       "    </tr>\n",
       "  </tbody>\n",
       "</table>\n",
       "<p>250 rows × 3 columns</p>\n",
       "</div>"
      ],
      "text/plain": [
       "     Shipping_ID     Status  Customer_ID\n",
       "0              1    Pending          173\n",
       "1              2    Pending          155\n",
       "2              3  Delivered          242\n",
       "3              4    Pending          223\n",
       "4              5  Delivered           72\n",
       "..           ...        ...          ...\n",
       "245          246    Pending          171\n",
       "246          247    Pending           40\n",
       "247          248  Delivered           37\n",
       "248          249    Pending           55\n",
       "249          250  Delivered           27\n",
       "\n",
       "[250 rows x 3 columns]"
      ]
     },
     "execution_count": 8,
     "metadata": {},
     "output_type": "execute_result"
    }
   ],
   "source": [
    "#Reading the data in Shipping.json\n",
    "df_3 = pd.read_json('/Users/kriteshsingh/Downloads/Shipping.json')\n",
    "df_3"
   ]
  },
  {
   "cell_type": "code",
   "execution_count": 9,
   "id": "52c4cc5a",
   "metadata": {},
   "outputs": [
    {
     "name": "stdout",
     "output_type": "stream",
     "text": [
      "<class 'pandas.core.frame.DataFrame'>\n",
      "RangeIndex: 250 entries, 0 to 249\n",
      "Data columns (total 3 columns):\n",
      " #   Column       Non-Null Count  Dtype \n",
      "---  ------       --------------  ----- \n",
      " 0   Shipping_ID  250 non-null    int64 \n",
      " 1   Status       250 non-null    object\n",
      " 2   Customer_ID  250 non-null    int64 \n",
      "dtypes: int64(2), object(1)\n",
      "memory usage: 6.0+ KB\n"
     ]
    }
   ],
   "source": [
    "#Summary of df_3 table\n",
    "\n",
    "df_3.info()"
   ]
  },
  {
   "cell_type": "code",
   "execution_count": 10,
   "id": "a34b6327",
   "metadata": {},
   "outputs": [
    {
     "data": {
      "text/plain": [
       "Shipping_ID    0\n",
       "Status         0\n",
       "Customer_ID    0\n",
       "dtype: int64"
      ]
     },
     "execution_count": 10,
     "metadata": {},
     "output_type": "execute_result"
    }
   ],
   "source": [
    "#Checking for missing values\n",
    "\n",
    "df_3.isnull().sum()"
   ]
  },
  {
   "cell_type": "code",
   "execution_count": 11,
   "id": "bdfcd28e",
   "metadata": {},
   "outputs": [],
   "source": [
    "# Merging Order data with Customer data based on Customer_ID\n",
    "merged_df = pd.merge(df_1, df_2, on='Customer_ID')\n",
    "\n",
    "# Merging the merged_df with Shipping data based on Customer_ID\n",
    "merged_df = pd.merge(merged_df, df_3, on='Customer_ID')"
   ]
  },
  {
   "cell_type": "markdown",
   "id": "3fc820f1",
   "metadata": {},
   "source": [
    "#### 1. The total amount spent and the country for the Pending delivery status for each country."
   ]
  },
  {
   "cell_type": "code",
   "execution_count": 12,
   "id": "5a63ab0b",
   "metadata": {},
   "outputs": [
    {
     "name": "stdout",
     "output_type": "stream",
     "text": [
      "  Country  Amount\n",
      "0     UAE   53800\n",
      "1      UK  136300\n",
      "2     USA   65500\n"
     ]
    }
   ],
   "source": [
    "pending_orders = merged_df[merged_df['Status'] == 'Pending']\n",
    "total_spent_by_country = pending_orders.groupby('Country')['Amount'].sum().reset_index()\n",
    "\n",
    "print(total_spent_by_country)"
   ]
  },
  {
   "cell_type": "code",
   "execution_count": 13,
   "id": "a9c61f47",
   "metadata": {},
   "outputs": [
    {
     "data": {
      "image/png": "[encoded data removed]",
      "text/plain": [
       "<Figure size 720x432 with 1 Axes>"
      ]
     },
     "metadata": {
      "needs_background": "light"
     },
     "output_type": "display_data"
    }
   ],
   "source": [
    "#Bar Plot\n",
    "\n",
    "plt.figure(figsize=(10, 6))\n",
    "ax = sns.barplot(x='Country', y='Amount', data=total_spent_by_country, palette='viridis')\n",
    "plt.title('Total Amount Spent for Pending Delivery Status by Country')\n",
    "plt.xlabel('Country')\n",
    "plt.ylabel('Total Amount Spent')\n",
    "plt.xticks(rotation=45)\n",
    "\n",
    "for index, row in total_spent_by_country.iterrows():\n",
    "    ax.text(index, row['Amount'], f\"{row['Amount']:.2f}\", color='black', ha=\"center\", va=\"bottom\")\n",
    "\n",
    "plt.tight_layout()\n",
    "plt.show()"
   ]
  },
  {
   "cell_type": "markdown",
   "id": "92ce1ba5",
   "metadata": {},
   "source": [
    "#### 2. The total number of transactions, total quantity sold, and total amount spent for each customer, along with the product details."
   ]
  },
  {
   "cell_type": "code",
   "execution_count": 14,
   "id": "5380cac8",
   "metadata": {},
   "outputs": [
    {
     "data": {
      "text/html": [
       "<div>\n",
       "<style scoped>\n",
       "    .dataframe tbody tr th:only-of-type {\n",
       "        vertical-align: middle;\n",
       "    }\n",
       "\n",
       "    .dataframe tbody tr th {\n",
       "        vertical-align: top;\n",
       "    }\n",
       "\n",
       "    .dataframe thead th {\n",
       "        text-align: right;\n",
       "    }\n",
       "</style>\n",
       "<table border=\"1\" class=\"dataframe\">\n",
       "  <thead>\n",
       "    <tr style=\"text-align: right;\">\n",
       "      <th></th>\n",
       "      <th>Customer_ID</th>\n",
       "      <th>First</th>\n",
       "      <th>Last</th>\n",
       "      <th>Age</th>\n",
       "      <th>Country</th>\n",
       "      <th>Order_ID</th>\n",
       "      <th>Amount</th>\n",
       "      <th>Item</th>\n",
       "    </tr>\n",
       "  </thead>\n",
       "  <tbody>\n",
       "    <tr>\n",
       "      <th>0</th>\n",
       "      <td>8</td>\n",
       "      <td>Jason</td>\n",
       "      <td>Montgomery</td>\n",
       "      <td>58</td>\n",
       "      <td>UK</td>\n",
       "      <td>8</td>\n",
       "      <td>4600</td>\n",
       "      <td>Mousepad, Mousepad, DDR RAM, DDR RAM, Webcam, ...</td>\n",
       "    </tr>\n",
       "    <tr>\n",
       "      <th>1</th>\n",
       "      <td>10</td>\n",
       "      <td>Darrell</td>\n",
       "      <td>Dillon</td>\n",
       "      <td>50</td>\n",
       "      <td>UAE</td>\n",
       "      <td>2</td>\n",
       "      <td>800</td>\n",
       "      <td>Keyboard, Keyboard</td>\n",
       "    </tr>\n",
       "    <tr>\n",
       "      <th>2</th>\n",
       "      <td>12</td>\n",
       "      <td>Jodi</td>\n",
       "      <td>Gonzalez</td>\n",
       "      <td>69</td>\n",
       "      <td>USA</td>\n",
       "      <td>2</td>\n",
       "      <td>10000</td>\n",
       "      <td>Harddisk, Harddisk</td>\n",
       "    </tr>\n",
       "    <tr>\n",
       "      <th>3</th>\n",
       "      <td>13</td>\n",
       "      <td>Omar</td>\n",
       "      <td>Martin</td>\n",
       "      <td>28</td>\n",
       "      <td>UK</td>\n",
       "      <td>3</td>\n",
       "      <td>13300</td>\n",
       "      <td>Headset, Monitor, Keyboard</td>\n",
       "    </tr>\n",
       "    <tr>\n",
       "      <th>4</th>\n",
       "      <td>15</td>\n",
       "      <td>Jason</td>\n",
       "      <td>Brown</td>\n",
       "      <td>63</td>\n",
       "      <td>UAE</td>\n",
       "      <td>3</td>\n",
       "      <td>1050</td>\n",
       "      <td>Webcam, Webcam, Webcam</td>\n",
       "    </tr>\n",
       "    <tr>\n",
       "      <th>...</th>\n",
       "      <td>...</td>\n",
       "      <td>...</td>\n",
       "      <td>...</td>\n",
       "      <td>...</td>\n",
       "      <td>...</td>\n",
       "      <td>...</td>\n",
       "      <td>...</td>\n",
       "      <td>...</td>\n",
       "    </tr>\n",
       "    <tr>\n",
       "      <th>94</th>\n",
       "      <td>235</td>\n",
       "      <td>Melissa</td>\n",
       "      <td>Gaines</td>\n",
       "      <td>25</td>\n",
       "      <td>UAE</td>\n",
       "      <td>2</td>\n",
       "      <td>750</td>\n",
       "      <td>Keyboard, Webcam</td>\n",
       "    </tr>\n",
       "    <tr>\n",
       "      <th>95</th>\n",
       "      <td>236</td>\n",
       "      <td>Al1cia</td>\n",
       "      <td>Jensen</td>\n",
       "      <td>19</td>\n",
       "      <td>USA</td>\n",
       "      <td>2</td>\n",
       "      <td>3000</td>\n",
       "      <td>DDR RAM, DDR RAM</td>\n",
       "    </tr>\n",
       "    <tr>\n",
       "      <th>96</th>\n",
       "      <td>242</td>\n",
       "      <td>Mark</td>\n",
       "      <td>R0berts</td>\n",
       "      <td>61</td>\n",
       "      <td>USA</td>\n",
       "      <td>3</td>\n",
       "      <td>36000</td>\n",
       "      <td>Monitor, Monitor, Monitor</td>\n",
       "    </tr>\n",
       "    <tr>\n",
       "      <th>97</th>\n",
       "      <td>244</td>\n",
       "      <td>Mark</td>\n",
       "      <td>Rivers</td>\n",
       "      <td>38</td>\n",
       "      <td>UK</td>\n",
       "      <td>1</td>\n",
       "      <td>900</td>\n",
       "      <td>Headset</td>\n",
       "    </tr>\n",
       "    <tr>\n",
       "      <th>98</th>\n",
       "      <td>246</td>\n",
       "      <td>Justin</td>\n",
       "      <td>Stewart</td>\n",
       "      <td>73</td>\n",
       "      <td>USA</td>\n",
       "      <td>1</td>\n",
       "      <td>900</td>\n",
       "      <td>Headset</td>\n",
       "    </tr>\n",
       "  </tbody>\n",
       "</table>\n",
       "<p>99 rows × 8 columns</p>\n",
       "</div>"
      ],
      "text/plain": [
       "    Customer_ID    First        Last  Age Country  Order_ID  Amount  \\\n",
       "0             8    Jason  Montgomery   58      UK         8    4600   \n",
       "1            10  Darrell      Dillon   50     UAE         2     800   \n",
       "2            12     Jodi    Gonzalez   69     USA         2   10000   \n",
       "3            13     Omar      Martin   28      UK         3   13300   \n",
       "4            15    Jason       Brown   63     UAE         3    1050   \n",
       "..          ...      ...         ...  ...     ...       ...     ...   \n",
       "94          235  Melissa      Gaines   25     UAE         2     750   \n",
       "95          236   Al1cia      Jensen   19     USA         2    3000   \n",
       "96          242     Mark     R0berts   61     USA         3   36000   \n",
       "97          244     Mark      Rivers   38      UK         1     900   \n",
       "98          246   Justin     Stewart   73     USA         1     900   \n",
       "\n",
       "                                                 Item  \n",
       "0   Mousepad, Mousepad, DDR RAM, DDR RAM, Webcam, ...  \n",
       "1                                  Keyboard, Keyboard  \n",
       "2                                  Harddisk, Harddisk  \n",
       "3                          Headset, Monitor, Keyboard  \n",
       "4                              Webcam, Webcam, Webcam  \n",
       "..                                                ...  \n",
       "94                                   Keyboard, Webcam  \n",
       "95                                   DDR RAM, DDR RAM  \n",
       "96                          Monitor, Monitor, Monitor  \n",
       "97                                            Headset  \n",
       "98                                            Headset  \n",
       "\n",
       "[99 rows x 8 columns]"
      ]
     },
     "execution_count": 14,
     "metadata": {},
     "output_type": "execute_result"
    }
   ],
   "source": [
    "customer_summary = merged_df.groupby(['Customer_ID', 'First', 'Last', 'Age', 'Country']).agg({\n",
    "    'Order_ID': 'count',\n",
    "    'Amount': 'sum',\n",
    "    'Item': lambda x: ', '.join(x)\n",
    "}).reset_index()\n",
    "\n",
    "customer_summary"
   ]
  },
  {
   "cell_type": "code",
   "execution_count": 15,
   "id": "7c4841b9",
   "metadata": {},
   "outputs": [
    {
     "data": {
      "image/png": "[encoded data removed]",
      "text/plain": [
       "<Figure size 864x432 with 1 Axes>"
      ]
     },
     "metadata": {
      "needs_background": "light"
     },
     "output_type": "display_data"
    }
   ],
   "source": [
    "#Bar plot\n",
    "\n",
    "plt.figure(figsize=(12, 6))\n",
    "ax = sns.barplot(x='Order_ID', y='Amount', data=customer_summary, palette='viridis')\n",
    "plt.title('Total Transactions and Amount Spent per Customer')\n",
    "plt.xlabel('Total Transactions')\n",
    "plt.ylabel('Total Amount Spent')\n",
    "plt.xticks(rotation=45)\n",
    "plt.tight_layout()\n",
    "plt.show()"
   ]
  },
  {
   "cell_type": "code",
   "execution_count": 16,
   "id": "e61871ff",
   "metadata": {},
   "outputs": [
    {
     "data": {
      "image/png": "[encoded data removed]",
      "text/plain": [
       "<Figure size 1440x432 with 1 Axes>"
      ]
     },
     "metadata": {
      "needs_background": "light"
     },
     "output_type": "display_data"
    }
   ],
   "source": [
    "# Bar plot\n",
    "plt.figure(figsize=(20, 6))\n",
    "sns.barplot(x='Customer_ID', y='Order_ID', data=customer_summary, palette='viridis')\n",
    "plt.title('Total Quantity Sold by Customer')\n",
    "plt.xlabel('Customer ID')\n",
    "plt.ylabel('Total Quantity Sold')\n",
    "plt.xticks(rotation=45)\n",
    "plt.tight_layout()\n",
    "plt.show()"
   ]
  },
  {
   "cell_type": "markdown",
   "id": "6d0399e8",
   "metadata": {},
   "source": [
    "#### 3. The maximum product purchased for each country."
   ]
  },
  {
   "cell_type": "code",
   "execution_count": 17,
   "id": "2656d651",
   "metadata": {},
   "outputs": [
    {
     "name": "stdout",
     "output_type": "stream",
     "text": [
      "  Country      Item\n",
      "0     UAE  Keyboard\n",
      "1      UK  Keyboard\n",
      "2     USA  Mousepad\n"
     ]
    }
   ],
   "source": [
    "max_product_per_country = merged_df.groupby('Country')['Item'].agg(lambda x: x.value_counts().idxmax()).reset_index()\n",
    "\n",
    "print(max_product_per_country)"
   ]
  },
  {
   "cell_type": "code",
   "execution_count": 18,
   "id": "2d954858",
   "metadata": {},
   "outputs": [
    {
     "data": {
      "image/png": "[encoded data removed]",
      "text/plain": [
       "<Figure size 864x432 with 1 Axes>"
      ]
     },
     "metadata": {
      "needs_background": "light"
     },
     "output_type": "display_data"
    }
   ],
   "source": [
    "#Bar Plot\n",
    "\n",
    "plt.figure(figsize=(12, 6))\n",
    "ax = sns.countplot(data=merged_df, x='Country', hue='Item', order=max_product_per_country['Country'], palette='Set2')\n",
    "plt.title('Maximum Product Purchased per Country')\n",
    "plt.xlabel('Country')\n",
    "plt.ylabel('Count')\n",
    "plt.xticks(rotation=45)\n",
    "plt.legend(title='Product')\n",
    "\n",
    "for p in ax.patches:\n",
    "    ax.annotate(f\"{p.get_height()}\", (p.get_x() + p.get_width() / 2., p.get_height()), \n",
    "                ha='center', va='center', fontsize=10, color='black', xytext=(0, 5), \n",
    "                textcoords='offset points')\n",
    "\n",
    "plt.tight_layout()\n",
    "plt.show()"
   ]
  },
  {
   "cell_type": "markdown",
   "id": "1e52dc44",
   "metadata": {},
   "source": [
    "#### 4. The most purchased product based on the age category less than 30 and above 30."
   ]
  },
  {
   "cell_type": "code",
   "execution_count": 19,
   "id": "0533a923",
   "metadata": {},
   "outputs": [
    {
     "name": "stdout",
     "output_type": "stream",
     "text": [
      "   Age_Category      Item\n",
      "0  Less than 30  Keyboard\n",
      "1      Above 30  Keyboard\n"
     ]
    }
   ],
   "source": [
    "merged_df['Age_Category'] = pd.cut(merged_df['Age'], bins=[0, 30, float('inf')], labels=['Less than 30', 'Above 30'])\n",
    "most_purchased_product_by_age = merged_df.groupby('Age_Category')['Item'].agg(lambda x: x.value_counts().idxmax()).reset_index()\n",
    "\n",
    "print(most_purchased_product_by_age)"
   ]
  },
  {
   "cell_type": "code",
   "execution_count": 20,
   "id": "005f1d7b",
   "metadata": {},
   "outputs": [
    {
     "data": {
      "image/png": "[encoded data removed]",
      "text/plain": [
       "<Figure size 720x432 with 1 Axes>"
      ]
     },
     "metadata": {
      "needs_background": "light"
     },
     "output_type": "display_data"
    }
   ],
   "source": [
    "#Bar plot\n",
    "\n",
    "plt.figure(figsize=(10, 6))\n",
    "ax = sns.countplot(data=merged_df, x='Age_Category', hue='Item', palette='Set3')\n",
    "plt.title('Most Purchased Product by Age Category')\n",
    "plt.xlabel('Age Category')\n",
    "plt.ylabel('Count')\n",
    "plt.legend(title='Product', bbox_to_anchor=(1.05, 1), loc='upper left')\n",
    "\n",
    "for p in ax.patches:\n",
    "    ax.annotate(f\"{p.get_height()}\", (p.get_x() + p.get_width() / 2., p.get_height()), \n",
    "                ha='center', va='center', fontsize=10, color='black', xytext=(0, 5), \n",
    "                textcoords='offset points')\n",
    "\n",
    "plt.tight_layout()\n",
    "plt.show()"
   ]
  },
  {
   "cell_type": "markdown",
   "id": "d84ab21c",
   "metadata": {},
   "source": [
    "#### 5. The country that had minimum transactions and sales amount."
   ]
  },
  {
   "cell_type": "code",
   "execution_count": 21,
   "id": "f4205b1e",
   "metadata": {},
   "outputs": [
    {
     "name": "stdout",
     "output_type": "stream",
     "text": [
      "Country with minimum transactions: UAE\n",
      "Country with minimum sales amount: UAE\n"
     ]
    }
   ],
   "source": [
    "country_summary = merged_df.groupby('Country').agg({\n",
    "    'Order_ID': 'count',     # Total number of transactions\n",
    "    'Amount': 'sum'          # Total sales amount\n",
    "})\n",
    "\n",
    "# Find the country with the minimum transactions and sales amount\n",
    "min_transactions = country_summary['Order_ID'].idxmin()\n",
    "min_sales_amount = country_summary['Amount'].idxmin()\n",
    "\n",
    "print(\"Country with minimum transactions:\", min_transactions)\n",
    "print(\"Country with minimum sales amount:\", min_sales_amount)"
   ]
  },
  {
   "cell_type": "code",
   "execution_count": 22,
   "id": "a4e75809",
   "metadata": {},
   "outputs": [
    {
     "data": {
      "image/png": "[encoded data removed]",
      "text/plain": [
       "<Figure size 864x432 with 1 Axes>"
      ]
     },
     "metadata": {
      "needs_background": "light"
     },
     "output_type": "display_data"
    },
    {
     "data": {
      "image/png": "[encoded data removed]",
      "text/plain": [
       "<Figure size 864x432 with 1 Axes>"
      ]
     },
     "metadata": {
      "needs_background": "light"
     },
     "output_type": "display_data"
    }
   ],
   "source": [
    "#Bar plot\n",
    "\n",
    "plt.figure(figsize=(12, 6))\n",
    "ax1 = sns.barplot(x=country_summary.index, y='Order_ID', data=country_summary, palette='viridis')\n",
    "plt.title('Total Number of Transactions by Country')\n",
    "plt.xlabel('Country')\n",
    "plt.ylabel('Number of Transactions')\n",
    "plt.xticks(rotation=45)\n",
    "\n",
    "for p in ax1.patches:\n",
    "    ax1.annotate(f\"{p.get_height()}\", (p.get_x() + p.get_width() / 2., p.get_height()), \n",
    "                 ha='center', va='center', fontsize=10, color='black', xytext=(0, 5), \n",
    "                 textcoords='offset points')\n",
    "\n",
    "plt.tight_layout()\n",
    "plt.show()\n",
    "\n",
    "# Create a bar plot for total sales amount by country\n",
    "plt.figure(figsize=(12, 6))\n",
    "ax2 = sns.barplot(x=country_summary.index, y='Amount', data=country_summary, palette='viridis')\n",
    "plt.title('Total Sales Amount by Country')\n",
    "plt.xlabel('Country')\n",
    "plt.ylabel('Sales Amount')\n",
    "plt.xticks(rotation=45)\n",
    "\n",
    "for p in ax2.patches:\n",
    "    ax2.annotate(f\"{p.get_height():.2f}\", (p.get_x() + p.get_width() / 2., p.get_height()), \n",
    "                 ha='center', va='center', fontsize=10, color='black', xytext=(0, 5), \n",
    "                 textcoords='offset points')\n",
    "\n",
    "plt.tight_layout()\n",
    "plt.show()\n"
   ]
  },
  {
   "cell_type": "markdown",
   "id": "4964f9ea",
   "metadata": {},
   "source": [
    "#### Here are some insights that could be shared with different peer teams and stakeholders based on the analysis conducted in the code: \n",
    "\n",
    "##### Data Engineers:\n",
    "1. Ensure data pipelines are robust and efficient in extracting, transforming, and loading data from various sources (CSV, Excel, JSON).\n",
    "2. Monitor data quality to ensure accuracy and consistency across different datasets.\n",
    "\n",
    "##### Data Scientists:\n",
    "1. Use the insights from the analysis to understand customer behavior, preferences, and trends.\n",
    "2. Explore further machine learning models or predictive analytics based on the data, such as customer segmentation or sales forecasting.\n",
    "3. Collaborate with data engineers to access and preprocess data for modeling purposes, ensuring data quality and integrity.\n",
    "\n",
    "##### Technical Stakeholders:\n",
    "1. Communicate findings in a clear and concise manner, highlighting key insights and actionable recommendations.\n",
    "2. Discuss potential implications for business strategies or decision-making processes based on the analysis results.\n",
    "\n",
    "##### Non-technical Stakeholders:\n",
    "1. Translate technical insights into business implications, focusing on how the analysis results can drive value or inform strategic decisions.\n",
    "2. Present findings in an accessible format, using visualizations or storytelling techniques to engage and educate stakeholders."
   ]
  },
  {
   "cell_type": "code",
   "execution_count": null,
   "id": "2d8032d1",
   "metadata": {},
   "outputs": [],
   "source": []
  }
 ],
 "metadata": {
  "kernelspec": {
   "display_name": "Python 3 (ipykernel)",
   "language": "python",
   "name": "python3"
  },
  "language_info": {
   "codemirror_mode": {
    "name": "ipython",
    "version": 3
   },
   "file_extension": ".py",
   "mimetype": "text/x-python",
   "name": "python",
   "nbconvert_exporter": "python",
   "pygments_lexer": "ipython3",
   "version": "3.9.12"
  }
 },
 "nbformat": 4,
 "nbformat_minor": 5
}
